{
  "nbformat": 4,
  "nbformat_minor": 0,
  "metadata": {
    "colab": {
      "name": "jupyter-test.ipynb",
      "version": "0.3.2",
      "views": {},
      "default_view": {},
      "provenance": [],
      "collapsed_sections": []
    },
    "kernelspec": {
      "display_name": "Python 3",
      "name": "python3"
    }
  },
  "cells": [
    {
      "metadata": {
        "id": "NGmfCtj8w8F5",
        "colab_type": "text"
      },
      "cell_type": "markdown",
      "source": [
        "---\n",
        "title: Jupyter Test Page\n",
        "subtitle: Simple Jupyter Test\n",
        "tags: [jupyter, sample-article]\n",
        "slug: jupyter-test\n",
        "author: if1live\n",
        "date: 2010-01-02\n",
        "url: /posts/jupyter-test\n",
        "\n",
        "---"
      ]
    },
    {
      "metadata": {
        "id": "9J7p406abzgl",
        "colab_type": "text"
      },
      "cell_type": "markdown",
      "source": [
        " ## Colaboratory에 오신 것을 환영합니다!\n",
        "\n",
        "Colaboratory는 텍스트, 코드, 코드 출력을 하나의 공동작업 문서로 통합해 주는 데이터 분석 도구입니다."
      ]
    },
    {
      "metadata": {
        "id": "na0VvPXmYKp1",
        "colab_type": "code",
        "colab": {
          "autoexec": {
            "startup": false,
            "wait_interval": 0
          },
          "output_extras": [
            {}
          ],
          "base_uri": "https://localhost:8080/",
          "height": 35
        },
        "outputId": "4c93f526-667b-4ba6-bc1b-db124a5ffc08",
        "executionInfo": {
          "elapsed": 701,
          "status": "ok",
          "timestamp": 1520670090571,
          "user": {
            "displayName": "유병후",
            "photoUrl": "//lh3.googleusercontent.com/-mr9nfIGsXdI/AAAAAAAAAAI/AAAAAAAAASs/01mIY-oQYZA/s50-c-k-no/photo.jpg",
            "userId": "113645615902777665022"
          },
          "user_tz": -540
        }
      },
      "cell_type": "code",
      "source": [
        "print('Hello, Colaboratory!')"
      ],
      "execution_count": 0,
      "outputs": [
        {
          "output_type": "stream",
          "text": [
            "Hello, Colaboratory!\n"
          ],
          "name": "stdout"
        }
      ]
    },
    {
      "metadata": {
        "id": "S9GW-n-oYWIj",
        "colab_type": "text"
      },
      "cell_type": "markdown",
      "source": [
        " Colaboratory를 사용하면 클릭 한 번만으로 사용 중인 브라우저에서 텐서플로우 코드를 실행할 수 있습니다. 아래의 예에서는 두 개의 행렬을 추가합니다.\n",
        "\n",
        "$\\begin{bmatrix}\n",
        "  1. & 1. & 1. \\\\\n",
        "  1. & 1. & 1. \\\\\n",
        "\\end{bmatrix} +\n",
        "\\begin{bmatrix}\n",
        "  1. & 2. & 3. \\\\\n",
        "  4. & 5. & 6. \\\\\n",
        "\\end{bmatrix} =\n",
        "\\begin{bmatrix}\n",
        "  2. & 3. & 4. \\\\\n",
        "  5. & 6. & 7. \\\\\n",
        "\\end{bmatrix}$"
      ]
    },
    {
      "metadata": {
        "id": "mwdQ1INEZKkb",
        "colab_type": "code",
        "colab": {
          "autoexec": {
            "startup": false,
            "wait_interval": 0
          },
          "output_extras": [
            {}
          ],
          "base_uri": "https://localhost:8080/",
          "height": 53
        },
        "outputId": "0b495c10-801f-451c-8bed-860569874add",
        "executionInfo": {
          "elapsed": 2066,
          "status": "ok",
          "timestamp": 1520670094260,
          "user": {
            "displayName": "유병후",
            "photoUrl": "//lh3.googleusercontent.com/-mr9nfIGsXdI/AAAAAAAAAAI/AAAAAAAAASs/01mIY-oQYZA/s50-c-k-no/photo.jpg",
            "userId": "113645615902777665022"
          },
          "user_tz": -540
        }
      },
      "cell_type": "code",
      "source": [
        "import tensorflow as tf\n",
        "import numpy as np\n",
        "\n",
        "with tf.Session():\n",
        "  input1 = tf.constant(1.0, shape=[2, 3])\n",
        "  input2 = tf.constant(np.reshape(np.arange(1.0, 7.0, dtype=np.float32), (2, 3)))\n",
        "  output = tf.add(input1, input2)\n",
        "  result = output.eval()\n",
        "  print(result)"
      ],
      "execution_count": 0,
      "outputs": [
        {
          "output_type": "stream",
          "text": [
            "[[2. 3. 4.]\n",
            " [5. 6. 7.]]\n"
          ],
          "name": "stdout"
        }
      ]
    },
    {
      "metadata": {
        "id": "rYs5mx2JZkmy",
        "colab_type": "text"
      },
      "cell_type": "markdown",
      "source": [
        " Colaboratory에는 [matplotlib](https://matplotlib.org/)와 같이 널리 사용되는 라이브러리가 포함되어 시각화를 단순화할 수 있습니다."
      ]
    },
    {
      "metadata": {
        "id": "xqrc5C-IaA5J",
        "colab_type": "code",
        "colab": {
          "autoexec": {
            "startup": false,
            "wait_interval": 0
          },
          "output_extras": [
            {}
          ],
          "base_uri": "https://localhost:8080/",
          "height": 347
        },
        "outputId": "e318d725-514f-4b0a-ef47-f8a7e8db1863",
        "executionInfo": {
          "elapsed": 1004,
          "status": "ok",
          "timestamp": 1520670095354,
          "user": {
            "displayName": "유병후",
            "photoUrl": "//lh3.googleusercontent.com/-mr9nfIGsXdI/AAAAAAAAAAI/AAAAAAAAASs/01mIY-oQYZA/s50-c-k-no/photo.jpg",
            "userId": "113645615902777665022"
          },
          "user_tz": -540
        }
      },
      "cell_type": "code",
      "source": [
        "import matplotlib.pyplot as plt\n",
        "\n",
        "x = np.arange(20)\n",
        "y = [x + np.random.randn(1) for x in x]\n",
        "a, b = np.polyfit(x, y, 1)\n",
        "plt.plot(x, y, 'o', np.arange(20), a*np.arange(20)+b, '-');"
      ],
      "execution_count": 0,
      "outputs": [
        {
          "output_type": "display_data",
          "data": {
            "image/png": "[encoded data removed]",
            "text/plain": [
              "<matplotlib.figure.Figure at 0x7ff602a06b70>"
            ]
          },
          "metadata": {
            "tags": []
          }
        }
      ]
    },
    {
      "metadata": {
        "id": "-Rh3-Vt9Nev9",
        "colab_type": "text"
      },
      "cell_type": "markdown",
      "source": [
        " Colaboratory는 Google Cloud BigQuery와 함께 사용할 수 있습니다.\n",
        "\n",
        "[샘플 BigQuery 노트](/notebooks/bigquery.ipynb)."
      ]
    }
  ]
}